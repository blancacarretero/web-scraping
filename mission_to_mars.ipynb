{
 "cells": [
  {
   "cell_type": "markdown",
   "id": "58cf4140",
   "metadata": {},
   "source": [
    "# Web Scraping"
   ]
  },
  {
   "cell_type": "code",
   "execution_count": 1,
   "id": "4299a8f8",
   "metadata": {},
   "outputs": [
    {
     "name": "stdout",
     "output_type": "stream",
     "text": [
      "\n"
     ]
    },
    {
     "name": "stderr",
     "output_type": "stream",
     "text": [
      "[WDM] - ====== WebDriver manager ======\n",
      "[WDM] - Current google-chrome version is 104.0.5112\n",
      "[WDM] - Get LATEST chromedriver version for 104.0.5112 google-chrome\n",
      "[WDM] - Driver [/Users/blancacarretero/.wdm/drivers/chromedriver/mac64/104.0.5112.79/chromedriver] found in cache\n"
     ]
    }
   ],
   "source": [
    "# Import dependencies\n",
    "from splinter import Browser\n",
    "from bs4 import BeautifulSoup as bs\n",
    "import time\n",
    "from webdriver_manager.chrome import ChromeDriverManager\n",
    "import pymongo\n",
    "import datetime\n",
    "import requests\n",
    "import shutil\n",
    "from bs4 import BeautifulSoup as bs\n",
    "from splinter import Browser\n",
    "import pandas as pd\n",
    "\n",
    "# Create a path using chromedriver\n",
    "executable_path = {'executable_path': ChromeDriverManager().install()}\n",
    "browser = Browser('chrome', **executable_path, headless=False)"
   ]
  },
  {
   "cell_type": "markdown",
   "id": "a231e01a",
   "metadata": {},
   "source": [
    "## NASA Mars News"
   ]
  },
  {
   "cell_type": "code",
   "execution_count": 2,
   "id": "1e031728",
   "metadata": {},
   "outputs": [],
   "source": [
    "# Visit NASA news website\n",
    "url = \"https://redplanetscience.com/\"\n",
    "browser.visit(url)"
   ]
  },
  {
   "cell_type": "code",
   "execution_count": 3,
   "id": "028b7044",
   "metadata": {},
   "outputs": [],
   "source": [
    "# Scrape page into Soup\n",
    "html = browser.html\n",
    "soup = bs(html, \"html.parser\")"
   ]
  },
  {
   "cell_type": "code",
   "execution_count": 4,
   "id": "3c48f3a4",
   "metadata": {},
   "outputs": [
    {
     "name": "stdout",
     "output_type": "stream",
     "text": [
      "August 21, 2022\n",
      "NASA Administrator Statement on Moon to Mars Initiative, FY 2021 Budget\n",
      "Jim Bridenstine addresses NASA's ambitious plans for the coming years, including Mars Sample Return.\n"
     ]
    }
   ],
   "source": [
    "# save the most recent article, title and date\n",
    "article = soup.find(\"div\", class_=\"list_text\")\n",
    "news_p = article.find(\"div\", class_=\"article_teaser_body\").text\n",
    "news_title = article.find(\"div\", class_=\"content_title\").text\n",
    "news_date = article.find(\"div\", class_=\"list_date\").text\n",
    "print(news_date)\n",
    "print(news_title)\n",
    "print(news_p)"
   ]
  },
  {
   "cell_type": "markdown",
   "id": "ec23ee92",
   "metadata": {},
   "source": [
    "## JPL Mars Space Images—Featured Image"
   ]
  },
  {
   "cell_type": "code",
   "execution_count": 5,
   "id": "c5aa0b13",
   "metadata": {},
   "outputs": [],
   "source": [
    "# Visit the Mars space images URL\n",
    "url2 = \"https://spaceimages-mars.com/\"\n",
    "browser.visit(url2)"
   ]
  },
  {
   "cell_type": "code",
   "execution_count": 6,
   "id": "f2dac5c5",
   "metadata": {},
   "outputs": [],
   "source": [
    "# Design an XPTH selector to grab the current featured Mars image\n",
    "xpath = '/html/body/div[1]/div/a/button'\n",
    "image = '/html/body/div[8]/div/div/div/div/img'"
   ]
  },
  {
   "cell_type": "code",
   "execution_count": 7,
   "id": "6590aeae",
   "metadata": {},
   "outputs": [],
   "source": [
    "# Use splinter to Click the feautured image \n",
    "# to bring up the full resolution image\n",
    "results = browser.find_by_xpath(xpath)\n",
    "img = results[0]\n",
    "img.click()"
   ]
  },
  {
   "cell_type": "code",
   "execution_count": 8,
   "id": "7c9a9830",
   "metadata": {},
   "outputs": [
    {
     "data": {
      "text/plain": [
       "'https://spaceimages-mars.com/image/featured/mars3.jpg'"
      ]
     },
     "execution_count": 8,
     "metadata": {},
     "output_type": "execute_result"
    }
   ],
   "source": [
    "# Scrape the browser into soup and use soup to find the full resolution image of mars\n",
    "# Save the image url to a variable called `img_url`\n",
    "html = browser.html\n",
    "soup = bs(html, 'html.parser')\n",
    "\n",
    "img_url = soup.find(\"img\", {\"class\":\"fancybox-image\"})['src']\n",
    "featured_img_url = url2 + img_url\n",
    "featured_img_url"
   ]
  },
  {
   "cell_type": "code",
   "execution_count": 9,
   "id": "fb459948",
   "metadata": {},
   "outputs": [
    {
     "data": {
      "text/html": [
       "<img src=\"mars_featured_img.jpg\"/>"
      ],
      "text/plain": [
       "<IPython.core.display.Image object>"
      ]
     },
     "execution_count": 9,
     "metadata": {},
     "output_type": "execute_result"
    }
   ],
   "source": [
    "# Use the requests library to download and save the image from the `img_url` above\n",
    "response = requests.get(featured_img_url, stream=True)\n",
    "with open('mars_featured_img.jpg', 'wb') as out_file:\n",
    "    shutil.copyfileobj(response.raw, out_file)\n",
    "    \n",
    "# Display the image with IPython.display\n",
    "from IPython.display import Image\n",
    "Image(url='mars_featured_img.jpg')"
   ]
  },
  {
   "cell_type": "markdown",
   "id": "5798ae1d",
   "metadata": {},
   "source": [
    "## Mars Facts"
   ]
  },
  {
   "cell_type": "code",
   "execution_count": 10,
   "id": "7cac37a1",
   "metadata": {},
   "outputs": [],
   "source": [
    "# Visit the Mars facts URL\n",
    "url3 = \"https://galaxyfacts-mars.com/\"\n",
    "browser.visit(url3)"
   ]
  },
  {
   "cell_type": "code",
   "execution_count": 11,
   "id": "d5b84a2a",
   "metadata": {},
   "outputs": [
    {
     "data": {
      "text/html": [
       "<div>\n",
       "<style scoped>\n",
       "    .dataframe tbody tr th:only-of-type {\n",
       "        vertical-align: middle;\n",
       "    }\n",
       "\n",
       "    .dataframe tbody tr th {\n",
       "        vertical-align: top;\n",
       "    }\n",
       "\n",
       "    .dataframe thead th {\n",
       "        text-align: right;\n",
       "    }\n",
       "</style>\n",
       "<table border=\"1\" class=\"dataframe\">\n",
       "  <thead>\n",
       "    <tr style=\"text-align: right;\">\n",
       "      <th></th>\n",
       "      <th>0</th>\n",
       "      <th>1</th>\n",
       "      <th>2</th>\n",
       "    </tr>\n",
       "  </thead>\n",
       "  <tbody>\n",
       "    <tr>\n",
       "      <th>0</th>\n",
       "      <td>Mars - Earth Comparison</td>\n",
       "      <td>Mars</td>\n",
       "      <td>Earth</td>\n",
       "    </tr>\n",
       "    <tr>\n",
       "      <th>1</th>\n",
       "      <td>Diameter:</td>\n",
       "      <td>6,779 km</td>\n",
       "      <td>12,742 km</td>\n",
       "    </tr>\n",
       "    <tr>\n",
       "      <th>2</th>\n",
       "      <td>Mass:</td>\n",
       "      <td>6.39 × 10^23 kg</td>\n",
       "      <td>5.97 × 10^24 kg</td>\n",
       "    </tr>\n",
       "    <tr>\n",
       "      <th>3</th>\n",
       "      <td>Moons:</td>\n",
       "      <td>2</td>\n",
       "      <td>1</td>\n",
       "    </tr>\n",
       "    <tr>\n",
       "      <th>4</th>\n",
       "      <td>Distance from Sun:</td>\n",
       "      <td>227,943,824 km</td>\n",
       "      <td>149,598,262 km</td>\n",
       "    </tr>\n",
       "    <tr>\n",
       "      <th>5</th>\n",
       "      <td>Length of Year:</td>\n",
       "      <td>687 Earth days</td>\n",
       "      <td>365.24 days</td>\n",
       "    </tr>\n",
       "    <tr>\n",
       "      <th>6</th>\n",
       "      <td>Temperature:</td>\n",
       "      <td>-87 to -5 °C</td>\n",
       "      <td>-88 to 58°C</td>\n",
       "    </tr>\n",
       "  </tbody>\n",
       "</table>\n",
       "</div>"
      ],
      "text/plain": [
       "                         0                1                2\n",
       "0  Mars - Earth Comparison             Mars            Earth\n",
       "1                Diameter:         6,779 km        12,742 km\n",
       "2                    Mass:  6.39 × 10^23 kg  5.97 × 10^24 kg\n",
       "3                   Moons:                2                1\n",
       "4       Distance from Sun:   227,943,824 km   149,598,262 km\n",
       "5          Length of Year:   687 Earth days      365.24 days\n",
       "6             Temperature:     -87 to -5 °C      -88 to 58°C"
      ]
     },
     "execution_count": 11,
     "metadata": {},
     "output_type": "execute_result"
    }
   ],
   "source": [
    "# create dataframe for mars information\n",
    "mars_data = pd.read_html(url3)\n",
    "\n",
    "mars_df = mars_data[0]\n",
    "mars_df"
   ]
  },
  {
   "cell_type": "code",
   "execution_count": 12,
   "id": "38300376",
   "metadata": {},
   "outputs": [
    {
     "data": {
      "text/html": [
       "<div>\n",
       "<style scoped>\n",
       "    .dataframe tbody tr th:only-of-type {\n",
       "        vertical-align: middle;\n",
       "    }\n",
       "\n",
       "    .dataframe tbody tr th {\n",
       "        vertical-align: top;\n",
       "    }\n",
       "\n",
       "    .dataframe thead th {\n",
       "        text-align: right;\n",
       "    }\n",
       "</style>\n",
       "<table border=\"1\" class=\"dataframe\">\n",
       "  <thead>\n",
       "    <tr style=\"text-align: right;\">\n",
       "      <th></th>\n",
       "      <th>Mars</th>\n",
       "      <th>Value</th>\n",
       "      <th>drop</th>\n",
       "    </tr>\n",
       "  </thead>\n",
       "  <tbody>\n",
       "    <tr>\n",
       "      <th>0</th>\n",
       "      <td>Mars - Earth Comparison</td>\n",
       "      <td>Mars</td>\n",
       "      <td>Earth</td>\n",
       "    </tr>\n",
       "    <tr>\n",
       "      <th>1</th>\n",
       "      <td>Diameter:</td>\n",
       "      <td>6,779 km</td>\n",
       "      <td>12,742 km</td>\n",
       "    </tr>\n",
       "    <tr>\n",
       "      <th>2</th>\n",
       "      <td>Mass:</td>\n",
       "      <td>6.39 × 10^23 kg</td>\n",
       "      <td>5.97 × 10^24 kg</td>\n",
       "    </tr>\n",
       "    <tr>\n",
       "      <th>3</th>\n",
       "      <td>Moons:</td>\n",
       "      <td>2</td>\n",
       "      <td>1</td>\n",
       "    </tr>\n",
       "    <tr>\n",
       "      <th>4</th>\n",
       "      <td>Distance from Sun:</td>\n",
       "      <td>227,943,824 km</td>\n",
       "      <td>149,598,262 km</td>\n",
       "    </tr>\n",
       "    <tr>\n",
       "      <th>5</th>\n",
       "      <td>Length of Year:</td>\n",
       "      <td>687 Earth days</td>\n",
       "      <td>365.24 days</td>\n",
       "    </tr>\n",
       "    <tr>\n",
       "      <th>6</th>\n",
       "      <td>Temperature:</td>\n",
       "      <td>-87 to -5 °C</td>\n",
       "      <td>-88 to 58°C</td>\n",
       "    </tr>\n",
       "  </tbody>\n",
       "</table>\n",
       "</div>"
      ],
      "text/plain": [
       "                      Mars            Value             drop\n",
       "0  Mars - Earth Comparison             Mars            Earth\n",
       "1                Diameter:         6,779 km        12,742 km\n",
       "2                    Mass:  6.39 × 10^23 kg  5.97 × 10^24 kg\n",
       "3                   Moons:                2                1\n",
       "4       Distance from Sun:   227,943,824 km   149,598,262 km\n",
       "5          Length of Year:   687 Earth days      365.24 days\n",
       "6             Temperature:     -87 to -5 °C      -88 to 58°C"
      ]
     },
     "execution_count": 12,
     "metadata": {},
     "output_type": "execute_result"
    }
   ],
   "source": [
    "mars_df.columns = [\"Mars\", \"Value\",\"drop\"]\n",
    "mars_df"
   ]
  },
  {
   "cell_type": "code",
   "execution_count": 13,
   "id": "629a9b41",
   "metadata": {},
   "outputs": [
    {
     "data": {
      "text/html": [
       "<div>\n",
       "<style scoped>\n",
       "    .dataframe tbody tr th:only-of-type {\n",
       "        vertical-align: middle;\n",
       "    }\n",
       "\n",
       "    .dataframe tbody tr th {\n",
       "        vertical-align: top;\n",
       "    }\n",
       "\n",
       "    .dataframe thead th {\n",
       "        text-align: right;\n",
       "    }\n",
       "</style>\n",
       "<table border=\"1\" class=\"dataframe\">\n",
       "  <thead>\n",
       "    <tr style=\"text-align: right;\">\n",
       "      <th></th>\n",
       "      <th>Mars</th>\n",
       "      <th>Value</th>\n",
       "    </tr>\n",
       "  </thead>\n",
       "  <tbody>\n",
       "    <tr>\n",
       "      <th>1</th>\n",
       "      <td>Diameter:</td>\n",
       "      <td>6,779 km</td>\n",
       "    </tr>\n",
       "    <tr>\n",
       "      <th>2</th>\n",
       "      <td>Mass:</td>\n",
       "      <td>6.39 × 10^23 kg</td>\n",
       "    </tr>\n",
       "    <tr>\n",
       "      <th>3</th>\n",
       "      <td>Moons:</td>\n",
       "      <td>2</td>\n",
       "    </tr>\n",
       "    <tr>\n",
       "      <th>4</th>\n",
       "      <td>Distance from Sun:</td>\n",
       "      <td>227,943,824 km</td>\n",
       "    </tr>\n",
       "    <tr>\n",
       "      <th>5</th>\n",
       "      <td>Length of Year:</td>\n",
       "      <td>687 Earth days</td>\n",
       "    </tr>\n",
       "    <tr>\n",
       "      <th>6</th>\n",
       "      <td>Temperature:</td>\n",
       "      <td>-87 to -5 °C</td>\n",
       "    </tr>\n",
       "  </tbody>\n",
       "</table>\n",
       "</div>"
      ],
      "text/plain": [
       "                 Mars            Value\n",
       "1           Diameter:         6,779 km\n",
       "2               Mass:  6.39 × 10^23 kg\n",
       "3              Moons:                2\n",
       "4  Distance from Sun:   227,943,824 km\n",
       "5     Length of Year:   687 Earth days\n",
       "6        Temperature:     -87 to -5 °C"
      ]
     },
     "execution_count": 13,
     "metadata": {},
     "output_type": "execute_result"
    }
   ],
   "source": [
    "mars_df2 = mars_df[['Mars', 'Value']]\n",
    "mars_df2 = mars_df2.drop([0])\n",
    "mars_df2"
   ]
  },
  {
   "cell_type": "code",
   "execution_count": 14,
   "id": "68ca7212",
   "metadata": {},
   "outputs": [
    {
     "name": "stdout",
     "output_type": "stream",
     "text": [
      "<table border=\"1\" class=\"dataframe\">\n",
      "  <thead>\n",
      "    <tr style=\"text-align: right;\">\n",
      "      <th></th>\n",
      "      <th>Mars</th>\n",
      "      <th>Value</th>\n",
      "    </tr>\n",
      "  </thead>\n",
      "  <tbody>\n",
      "    <tr>\n",
      "      <th>1</th>\n",
      "      <td>Diameter:</td>\n",
      "      <td>6,779 km</td>\n",
      "    </tr>\n",
      "    <tr>\n",
      "      <th>2</th>\n",
      "      <td>Mass:</td>\n",
      "      <td>6.39 × 10^23 kg</td>\n",
      "    </tr>\n",
      "    <tr>\n",
      "      <th>3</th>\n",
      "      <td>Moons:</td>\n",
      "      <td>2</td>\n",
      "    </tr>\n",
      "    <tr>\n",
      "      <th>4</th>\n",
      "      <td>Distance from Sun:</td>\n",
      "      <td>227,943,824 km</td>\n",
      "    </tr>\n",
      "    <tr>\n",
      "      <th>5</th>\n",
      "      <td>Length of Year:</td>\n",
      "      <td>687 Earth days</td>\n",
      "    </tr>\n",
      "    <tr>\n",
      "      <th>6</th>\n",
      "      <td>Temperature:</td>\n",
      "      <td>-87 to -5 °C</td>\n",
      "    </tr>\n",
      "  </tbody>\n",
      "</table>\n"
     ]
    }
   ],
   "source": [
    "# Convert table to HTML string\n",
    "mars_facts = mars_df2.to_html()\n",
    "print(mars_facts)"
   ]
  },
  {
   "cell_type": "markdown",
   "id": "bfd6e4d2",
   "metadata": {},
   "source": [
    "## Mars Hemispheres"
   ]
  },
  {
   "cell_type": "code",
   "execution_count": 15,
   "id": "6f438e7e",
   "metadata": {},
   "outputs": [],
   "source": [
    "# Visit the Mars astrogeology site\n",
    "url4 = \"https://marshemispheres.com/\"\n",
    "browser.visit(url4)"
   ]
  },
  {
   "cell_type": "code",
   "execution_count": 16,
   "id": "4dbf2cf0",
   "metadata": {},
   "outputs": [],
   "source": [
    "# Design an XPTH selector to grab the links\n",
    "xpath_cerberus = '//*[@id=\"product-section\"]/div[2]/div[1]/div/a'\n",
    "xpath_schiaparelli = '//*[@id=\"product-section\"]/div[2]/div[2]/div/a'\n",
    "xpath_syrtis = '//*[@id=\"product-section\"]/div[2]/div[3]/div/a'\n",
    "xpath_valles = '//*[@id=\"product-section\"]/div[2]/div[4]/div/a'"
   ]
  },
  {
   "cell_type": "code",
   "execution_count": 17,
   "id": "66007518",
   "metadata": {},
   "outputs": [],
   "source": [
    "# CERBERUS HEMISPHERE:\n",
    "cerberus_results = browser.find_by_xpath(xpath_cerberus)\n",
    "cerberus = cerberus_results[0]\n",
    "cerberus.click()"
   ]
  },
  {
   "cell_type": "code",
   "execution_count": 18,
   "id": "df109d08",
   "metadata": {},
   "outputs": [
    {
     "data": {
      "text/plain": [
       "'https://marshemispheres.com/images/f5e372a36edfa389625da6d0cc25d905_cerberus_enhanced.tif_full.jpg'"
      ]
     },
     "execution_count": 18,
     "metadata": {},
     "output_type": "execute_result"
    }
   ],
   "source": [
    "html = browser.html\n",
    "soup = bs(html, 'html.parser')\n",
    "\n",
    "cerberus = soup.find(\"img\", {\"class\":\"wide-image\"})['src']\n",
    "cerberus_img_url = url4 + cerberus\n",
    "cerberus_img_url"
   ]
  },
  {
   "cell_type": "code",
   "execution_count": 19,
   "id": "be609a00",
   "metadata": {},
   "outputs": [],
   "source": [
    "# Go back to homepage\n",
    "home = '//*[@id=\"results\"]/div[1]/div/div[4]/a'\n",
    "go_home = browser.find_by_xpath(home)\n",
    "go_home.click()"
   ]
  },
  {
   "cell_type": "code",
   "execution_count": 20,
   "id": "4033537e",
   "metadata": {},
   "outputs": [],
   "source": [
    "# SCHIAPARELLI HEMISPHERE\n",
    "schia_results = browser.find_by_xpath(xpath_schiaparelli)\n",
    "schia = schia_results[0]\n",
    "schia.click()"
   ]
  },
  {
   "cell_type": "code",
   "execution_count": 21,
   "id": "79a5d498",
   "metadata": {},
   "outputs": [
    {
     "data": {
      "text/plain": [
       "'https://marshemispheres.com/images/3778f7b43bbbc89d6e3cfabb3613ba93_schiaparelli_enhanced.tif_full.jpg'"
      ]
     },
     "execution_count": 21,
     "metadata": {},
     "output_type": "execute_result"
    }
   ],
   "source": [
    "html = browser.html\n",
    "soup = bs(html, 'html.parser')\n",
    "\n",
    "schia = soup.find(\"img\", {\"class\":\"wide-image\"})['src']\n",
    "schia_img_url = url4 + schia\n",
    "schia_img_url"
   ]
  },
  {
   "cell_type": "code",
   "execution_count": 22,
   "id": "2a4a6ad3",
   "metadata": {},
   "outputs": [],
   "source": [
    "# Go back to homepage\n",
    "home = '//*[@id=\"results\"]/div[1]/div/div[4]/a'\n",
    "go_home = browser.find_by_xpath(home)\n",
    "go_home.click()"
   ]
  },
  {
   "cell_type": "code",
   "execution_count": 23,
   "id": "0b3a57e3",
   "metadata": {},
   "outputs": [],
   "source": [
    "# SYRTIS HEMISPHERE\n",
    "syrtis_results = browser.find_by_xpath(xpath_syrtis)\n",
    "syrtis = syrtis_results[0]\n",
    "syrtis.click()"
   ]
  },
  {
   "cell_type": "code",
   "execution_count": 24,
   "id": "943680e5",
   "metadata": {},
   "outputs": [
    {
     "data": {
      "text/plain": [
       "'https://marshemispheres.com/images/555e6403a6ddd7ba16ddb0e471cadcf7_syrtis_major_enhanced.tif_full.jpg'"
      ]
     },
     "execution_count": 24,
     "metadata": {},
     "output_type": "execute_result"
    }
   ],
   "source": [
    "html = browser.html\n",
    "soup = bs(html, 'html.parser')\n",
    "\n",
    "syrtis = soup.find(\"img\", {\"class\":\"wide-image\"})['src']\n",
    "syrtis_img_url = url4 + syrtis\n",
    "syrtis_img_url"
   ]
  },
  {
   "cell_type": "code",
   "execution_count": 25,
   "id": "ba8fe1ff",
   "metadata": {},
   "outputs": [],
   "source": [
    "# Go back to homepage\n",
    "home = '//*[@id=\"results\"]/div[1]/div/div[4]/a'\n",
    "go_home = browser.find_by_xpath(home)\n",
    "go_home.click()"
   ]
  },
  {
   "cell_type": "code",
   "execution_count": 26,
   "id": "8a0e7be5",
   "metadata": {},
   "outputs": [],
   "source": [
    "# VALLES HEMISPHERE\n",
    "valles_results = browser.find_by_xpath(xpath_valles)\n",
    "valles = valles_results[0]\n",
    "valles.click()"
   ]
  },
  {
   "cell_type": "code",
   "execution_count": 27,
   "id": "c0749ba7",
   "metadata": {},
   "outputs": [
    {
     "data": {
      "text/plain": [
       "'https://marshemispheres.com/images/b3c7c6c9138f57b4756be9b9c43e3a48_valles_marineris_enhanced.tif_full.jpg'"
      ]
     },
     "execution_count": 27,
     "metadata": {},
     "output_type": "execute_result"
    }
   ],
   "source": [
    "html = browser.html\n",
    "soup = bs(html, 'html.parser')\n",
    "\n",
    "valles = soup.find(\"img\", {\"class\":\"wide-image\"})['src']\n",
    "valles_img_url = url4 + valles\n",
    "valles_img_url"
   ]
  },
  {
   "cell_type": "code",
   "execution_count": 28,
   "id": "a254e7e1",
   "metadata": {},
   "outputs": [],
   "source": [
    "# Close the browser after scraping\n",
    "browser.quit()"
   ]
  },
  {
   "cell_type": "code",
   "execution_count": 29,
   "id": "b74aab8a",
   "metadata": {},
   "outputs": [
    {
     "name": "stdout",
     "output_type": "stream",
     "text": [
      "{'title': 'Valles Marineris Hemisphere', 'img_url': 'https://marshemispheres.com/images/b3c7c6c9138f57b4756be9b9c43e3a48_valles_marineris_enhanced.tif_full.jpg'}\n",
      "{'title': 'Cerberus Hemisphere', 'img_url': 'https://marshemispheres.com/images/f5e372a36edfa389625da6d0cc25d905_cerberus_enhanced.tif_full.jpg'}\n",
      "{'title': 'Schiaparelli Hemisphere', 'img_url': 'https://marshemispheres.com/images/3778f7b43bbbc89d6e3cfabb3613ba93_schiaparelli_enhanced.tif_full.jpg'}\n",
      "{'title': 'Syrtis Major Hemisphere', 'img_url': 'https://marshemispheres.com/images/555e6403a6ddd7ba16ddb0e471cadcf7_syrtis_major_enhanced.tif_full.jpg'}\n"
     ]
    }
   ],
   "source": [
    "# Append the dictionary with the image URL string and the hemisphere title to a list\n",
    "hemisphere_image_urls = [\n",
    "    {\"title\":\"Valles Marineris Hemisphere\", \"img_url\":valles_img_url},\n",
    "    {\"title\":\"Cerberus Hemisphere\", \"img_url\":cerberus_img_url},\n",
    "    {\"title\":\"Schiaparelli Hemisphere\", \"img_url\":schia_img_url},\n",
    "    {\"title\":\"Syrtis Major Hemisphere\", \"img_url\":syrtis_img_url},\n",
    "]\n",
    "\n",
    "print(*hemisphere_image_urls,sep='\\n')"
   ]
  }
 ],
 "metadata": {
  "kernelspec": {
   "display_name": "local-venv",
   "language": "python",
   "name": "local-venv"
  },
  "language_info": {
   "codemirror_mode": {
    "name": "ipython",
    "version": 3
   },
   "file_extension": ".py",
   "mimetype": "text/x-python",
   "name": "python",
   "nbconvert_exporter": "python",
   "pygments_lexer": "ipython3",
   "version": "3.6.10"
  }
 },
 "nbformat": 4,
 "nbformat_minor": 5
}
